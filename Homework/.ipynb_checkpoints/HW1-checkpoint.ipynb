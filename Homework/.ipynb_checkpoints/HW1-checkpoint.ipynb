{
 "cells": [
  {
   "cell_type": "markdown",
   "metadata": {},
   "source": [
    "# **AM 207**: Homework 1"
   ]
  },
  {
   "cell_type": "markdown",
   "metadata": {},
   "source": [
    "Verena Kaynig-Fittkau and Pavlos Protopapas  <br>\n",
    "**Due: 11.59 P.M. Thursday February 18th, 2015**"
   ]
  },
  {
   "cell_type": "markdown",
   "metadata": {},
   "source": [
    "### Instructions:\n",
    "\n",
    "+ Upload your answers in an ipython notebook to Canvas.\n",
    "\n",
    "+ We will provide you imports for your ipython notebook. Please do not import additional libraries.\n",
    "\n",
    "+ Your individual submissions should use the following filenames: AM207_YOURNAME_HW1.ipynb\n",
    "\n",
    "+ Your code should be in code cells as part of your ipython notebook. Do not use a different language (or format). \n",
    "\n",
    "+ **Do not just send your code. The homework solutions should be in a report style. Be sure to add comments to your code as well as markdown cells where you describe your approach and discuss your results. **\n",
    "\n",
    "+ Please submit your notebook in an **executed** status, so that we can see all the results you computed. However, we will still run your code and all cells should reproduce the output when executed. \n",
    "\n",
    "+ If you have multiple files (e.g. you've added code files or images) create a tarball for all files in a single file and name it: AM207_YOURNAME_HW1.tar.gz or AM207_YOURNAME_HW1.zip\n",
    "\n",
    "\n",
    "### Have Fun!\n",
    "_ _ _ _ _"
   ]
  },
  {
   "cell_type": "code",
   "execution_count": 2,
   "metadata": {
    "collapsed": false
   },
   "outputs": [],
   "source": [
    "import numpy as np\n",
    "import matplotlib\n",
    "import matplotlib.pyplot as plt\n",
    "from mpl_toolkits.mplot3d import Axes3D\n",
    "%matplotlib inline\n",
    "\n",
    "import seaborn as sns\n",
    "sns.set_style(\"white\")\n",
    "\n",
    "import time\n",
    "\n",
    "import scipy.stats "
   ]
  },
  {
   "cell_type": "markdown",
   "metadata": {},
   "source": [
    "# Problem 1: By a Needles Length\n",
    "\n",
    "![Alt Buffon Needle](figures/Buffon_needle.gif)\n",
    "We discussed how to use Buffon's needle to estimate $\\pi$ during lecture, using the probability of the needle crossing a line of a floor tile. Using Monte Carlo simulation, estimate the probability of the needle crossing a floor line as a function of the needle's length. Assume that the distance between floor lines is 1 unit, and your needle manufacturer provides you with needles of different length in 0.1 increments with a maximum length of 1 unit. Plot a histogram of your results and compare your results to the analytical solution from the lecture:\n",
    "$$P = \\frac{2 \\cdot l}{t \\cdot \\pi}$$\n",
    "\n",
    "where $l$ is the length of the needle and $t$ is the distance beweent the floor tiles\n",
    "\n",
    "In a next step extend your simulation to a maximum needle length of 2 units, still using 0.1 increments. Compare your results to the same formula for the intersection. Why do your results now diverge from the analytical solution given above? What would you need to do to correct the analytical formula? It is ok to just describe the integral you need to solve analytically, and why it looks this way. No need to actually do the integration by hand. "
   ]
  },
  {
   "cell_type": "markdown",
   "metadata": {},
   "source": [
    "**Please answer this problem by adding cells here.**"
   ]
  },
  {
   "cell_type": "code",
   "execution_count": 124,
   "metadata": {
    "collapsed": false
   },
   "outputs": [],
   "source": [
    "# define the Buffon's needle experiment function\n",
    "def BF_needle(N, t, l):\n",
    "    x_center = np.random.uniform(low=0., high=t/2., size=N)\n",
    "    theta = np.random.uniform(low=0., high=np.pi/2., size=N)\n",
    "    N_cross = np.sum(x_center <= (np.sin(theta)*l/2.))\n",
    "    p_est = N_cross/N\n",
    "    return p_est"
   ]
  },
  {
   "cell_type": "markdown",
   "metadata": {},
   "source": [
    "### Maximum needle length of 1 unit"
   ]
  },
  {
   "cell_type": "code",
   "execution_count": 125,
   "metadata": {
    "collapsed": false
   },
   "outputs": [
    {
     "name": "stderr",
     "output_type": "stream",
     "text": [
      "C:\\Users\\xiaowen\\Anaconda\\lib\\site-packages\\ipykernel\\__main__.py:3: DeprecationWarning: using a non-integer number instead of an integer will result in an error in the future\n",
      "  app.launch_new_instance()\n",
      "C:\\Users\\xiaowen\\Anaconda\\lib\\site-packages\\ipykernel\\__main__.py:4: DeprecationWarning: using a non-integer number instead of an integer will result in an error in the future\n"
     ]
    },
    {
     "data": {
      "text/plain": [
       "<matplotlib.figure.Figure at 0xd8a0b38>"
      ]
     },
     "metadata": {},
     "output_type": "display_data"
    }
   ],
   "source": [
    "# define t(distance between floor lines), l(length of needles), N(Sample Size)\n",
    "t=1\n",
    "l=np.linspace(0.1,1,10)\n",
    "N=100.\n",
    "\n",
    "# Do multiple experiments for each length and plot the variance of the mean\n",
    "tries = 500\n",
    "real = []\n",
    "est_mean=[]\n",
    "est_std=[]\n",
    "plt.figure(1,figsize=(10, 30))\n",
    "for i in range(len(l)):\n",
    "    estimate = np.zeros(tries)\n",
    "    for j in range(tries):\n",
    "        estimate[j]=BF_needle(N,t,l[i]).mean()\n",
    "    est_mean.append(estimate.mean())\n",
    "    est_std.append(estimate.std())\n",
    "    real.append((2.*l[i])/(t*np.pi))"
   ]
  },
  {
   "cell_type": "code",
   "execution_count": 132,
   "metadata": {
    "collapsed": false
   },
   "outputs": [
    {
     "data": {
      "text/plain": [
       "<matplotlib.legend.Legend at 0xd8fb470>"
      ]
     },
     "execution_count": 132,
     "metadata": {},
     "output_type": "execute_result"
    },
    {
     "data": {
      "image/png": "[encoded data removed]",
      "text/plain": [
       "<matplotlib.figure.Figure at 0xa5c1588>"
      ]
     },
     "metadata": {},
     "output_type": "display_data"
    }
   ],
   "source": [
    "# plot the result against the analytical solution\n",
    "plt.bar(np.arange(10), est_mean, width=0.4, label=\"Estimated probability\")\n",
    "plt.bar(np.arange(10)+0.4, real, color=\"red\", width=0.4,label=\"Analytical Solution\")\n",
    "plt.xlabel(\"Length of Needle\")\n",
    "plt.ylabel(\"Probablility of Intersection\")\n",
    "plt.title(\"Probability of Intersection vs. Length of Buffon's Needle\")\n",
    "plt.xticks(np.arange(10)+0.4, l)\n",
    "plt.legend(loc = \"upper left\")"
   ]
  },
  {
   "cell_type": "markdown",
   "metadata": {},
   "source": [
    "#### Explanation\n",
    "From the histogram above, we could see that this formular works pretty well when the maximum lengh of the needle is 1 unit. The analytical solution is very close to our estimate."
   ]
  },
  {
   "cell_type": "markdown",
   "metadata": {},
   "source": [
    "### Maximum needle length of 2 units"
   ]
  },
  {
   "cell_type": "code",
   "execution_count": 133,
   "metadata": {
    "collapsed": false
   },
   "outputs": [
    {
     "name": "stderr",
     "output_type": "stream",
     "text": [
      "C:\\Users\\xiaowen\\Anaconda\\lib\\site-packages\\ipykernel\\__main__.py:3: DeprecationWarning: using a non-integer number instead of an integer will result in an error in the future\n",
      "  app.launch_new_instance()\n",
      "C:\\Users\\xiaowen\\Anaconda\\lib\\site-packages\\ipykernel\\__main__.py:4: DeprecationWarning: using a non-integer number instead of an integer will result in an error in the future\n"
     ]
    }
   ],
   "source": [
    "# define t(distance between floor lines), l(length of needles), N(Sample Size)\n",
    "t=1\n",
    "l=np.linspace(1.1,2,10)\n",
    "N=100.\n",
    "\n",
    "# Do multiple experiments for each length and plot the variance of the mean\n",
    "tries = 500\n",
    "real2 = []\n",
    "est_mean2=[]\n",
    "est_std2=[]\n",
    "for i in range(len(l)):\n",
    "    estimate = np.zeros(tries)\n",
    "    for j in range(tries):\n",
    "        estimate[j]=BF_needle(N,t,l[i]).mean()\n",
    "    est_mean2.append(estimate.mean())\n",
    "    est_std2.append(estimate.std())\n",
    "    real2.append((2.*l[i])/(t*np.pi))\n"
   ]
  },
  {
   "cell_type": "code",
   "execution_count": 134,
   "metadata": {
    "collapsed": false
   },
   "outputs": [
    {
     "data": {
      "text/plain": [
       "<matplotlib.legend.Legend at 0x11142080>"
      ]
     },
     "execution_count": 134,
     "metadata": {},
     "output_type": "execute_result"
    },
    {
     "data": {
      "image/png": "[encoded data removed]",
      "text/plain": [
       "<matplotlib.figure.Figure at 0xf005a90>"
      ]
     },
     "metadata": {},
     "output_type": "display_data"
    }
   ],
   "source": [
    "# plot the result against the analytical solution\n",
    "plt.bar(np.arange(10), est_mean2, width=0.4, label=\"Estimated probability\")\n",
    "plt.bar(np.arange(10)+0.4, real2, color=\"red\", width=0.4,label=\"Analytical Solution\")\n",
    "plt.xlabel(\"Length of Needle\")\n",
    "plt.ylabel(\"Probablility of Intersection\")\n",
    "plt.title(\"Probability of Intersection vs. Length of Buffon's Needle\")\n",
    "plt.xticks(np.arange(10)+0.4, l)\n",
    "plt.legend(loc = \"upper left\")"
   ]
  },
  {
   "cell_type": "markdown",
   "metadata": {},
   "source": [
    "#### Explanation\n",
    "From the histograms above, we could see that when the length of the needle is greater than 1, our estimated probalities are no longer accurate. The longer the needle is, the estimated probabilies is more far away the analytical solution. The estimates get more and more close to 1 very slowyly while the analytical solution even become greater than 1 (which seems wrong). The reason is in our formula, we are assuming l<=t. We get the original formula by integrating the joint probability density function gives the probability that the needle will cross a line and we integrate x from 0 to $\\frac{l}{2}sin(\\theta)$. To fix this problem, we should integrate x from 0 to the min($\\frac{l}{2}sin(\\theta), t/2).\n",
    "\n",
    "And the final formula we get is:\n",
    "$$\\frac{2}{\\pi}cos^{-1}\\frac{t}{l}+\\frac{2}{\\pi}\\frac{l}{t}[1-\\sqrt{1-(\\frac{t}{l})^2}]$$"
   ]
  },
  {
   "cell_type": "markdown",
   "metadata": {},
   "source": [
    "# Problem 2: Simple Integration\n",
    "\n",
    "Write a function that estimates the value of a given one dimensional integral Monte Carlo style. \n",
    "The function should have the following signature:\n",
    "\n",
    "`estimate_integral_MC(function_to_integrate, lower_bound, upper_bound, number_of_samples, number_of_tries)`\n",
    "\n",
    "Where `number_of_tries` is used to calculate the standard deviation of the estimated value of the integral. \n",
    "\n",
    "Test your function by solving the following integrals:\n",
    "\n",
    "* $ \\int_0^3 x^{\\frac{x}{4}} \\,dx$\n",
    "* $ \\int_0^1 \\log x \\cdot \\log(1-x) \\,dx $.\n"
   ]
  },
  {
   "cell_type": "markdown",
   "metadata": {},
   "source": [
    "**Please answer this problem by adding cells here.**"
   ]
  },
  {
   "cell_type": "code",
   "execution_count": 112,
   "metadata": {
    "collapsed": true
   },
   "outputs": [],
   "source": [
    "def estimate_integram_MC(function_to_integrate, lower_bound, upper_bound, number_of_samples, number_of_tries):\n",
    "    # space to save estimates,est_mean,est_std, est_error\n",
    "    estimates = np.zeros(number_of_tries)\n",
    " \n",
    "    for N in np.arange(0,number_of_tries):\n",
    "        X = np.random.uniform(low=lower_bound, high=upper_bound, size=number_of_samples)\n",
    "        Y = function_to_integrate(X)\n",
    "        estimates[N]=(upper_bound-lower_bound)*np.sum(Y)/number_of_samples\n",
    "        \n",
    "    # store estimate mean, std over number of tries\n",
    "    est_mean = estimates.mean()\n",
    "    est_std = estimates.std()\n",
    "    \n",
    "    return est_mean, est_std"
   ]
  },
  {
   "cell_type": "markdown",
   "metadata": {},
   "source": [
    "### Test $ \\int_0^3 x^{\\frac{x}{4}}dx$ for different sample sizes with 100 tries: \n"
   ]
  },
  {
   "cell_type": "code",
   "execution_count": 115,
   "metadata": {
    "collapsed": false,
    "scrolled": true
   },
   "outputs": [
    {
     "name": "stderr",
     "output_type": "stream",
     "text": [
      "C:\\Users\\xiaowen\\Anaconda\\lib\\site-packages\\ipykernel\\__main__.py:3: DeprecationWarning: using a non-integer number instead of an integer will result in an error in the future\n",
      "  app.launch_new_instance()\n",
      "C:\\Users\\xiaowen\\Anaconda\\lib\\site-packages\\ipykernel\\__main__.py:6: DeprecationWarning: using a non-integer number instead of an integer will result in an error in the future\n",
      "C:\\Users\\xiaowen\\Anaconda\\lib\\site-packages\\ipykernel\\__main__.py:8: DeprecationWarning: using a non-integer number instead of an integer will result in an error in the future\n"
     ]
    }
   ],
   "source": [
    "sample_size = np.linspace(100, 10000, 100)\n",
    "est_list=[]\n",
    "std_list=[]\n",
    "for i in sample_size:\n",
    "    est_mean,est_std = estimate_integram_MC(lambda x: x**(x/4.), 0, 3, i, 100.)\n",
    "    est_list.append(est_mean)\n",
    "    std_list.append(est_std)"
   ]
  },
  {
   "cell_type": "code",
   "execution_count": 116,
   "metadata": {
    "collapsed": false
   },
   "outputs": [
    {
     "data": {
      "text/plain": [
       "<matplotlib.text.Text at 0x990f550>"
      ]
     },
     "execution_count": 116,
     "metadata": {},
     "output_type": "execute_result"
    },
    {
     "data": {
      "image/png": "[encoded data removed]",
      "text/plain": [
       "<matplotlib.figure.Figure at 0xa510940>"
      ]
     },
     "metadata": {},
     "output_type": "display_data"
    }
   ],
   "source": [
    "# plot estimates with std as error bar to check how variances change as number of sample size increases\n",
    "plt.errorbar(sample_size, est_list, yerr=std_list)\n",
    "plt.xlabel(\"Sample Size\")\n",
    "plt.ylabel(\"Estimate of the Function Integral\")\n",
    "plt.title(\"Estimate value & std vs.Sample Size\")"
   ]
  },
  {
   "cell_type": "markdown",
   "metadata": {},
   "source": [
    "### Test  $ \\int_0^1 \\log x \\cdot \\log(1-x)dx $ for different sample sizes with 100 tries"
   ]
  },
  {
   "cell_type": "code",
   "execution_count": 117,
   "metadata": {
    "collapsed": false
   },
   "outputs": [
    {
     "name": "stderr",
     "output_type": "stream",
     "text": [
      "C:\\Users\\xiaowen\\Anaconda\\lib\\site-packages\\ipykernel\\__main__.py:3: DeprecationWarning: using a non-integer number instead of an integer will result in an error in the future\n",
      "  app.launch_new_instance()\n",
      "C:\\Users\\xiaowen\\Anaconda\\lib\\site-packages\\ipykernel\\__main__.py:6: DeprecationWarning: using a non-integer number instead of an integer will result in an error in the future\n",
      "C:\\Users\\xiaowen\\Anaconda\\lib\\site-packages\\ipykernel\\__main__.py:8: DeprecationWarning: using a non-integer number instead of an integer will result in an error in the future\n"
     ]
    }
   ],
   "source": [
    "est_list2=[]\n",
    "std_list2=[]\n",
    "for i in sample_size:\n",
    "    est_mean,est_std = estimate_integram_MC(lambda x: np.log(x)*np.log(1-x), 0, 1, i, 100.)\n",
    "    est_list2.append(est_mean)\n",
    "    std_list2.append(est_std)"
   ]
  },
  {
   "cell_type": "code",
   "execution_count": 118,
   "metadata": {
    "collapsed": false
   },
   "outputs": [
    {
     "data": {
      "text/plain": [
       "<matplotlib.text.Text at 0xd605198>"
      ]
     },
     "execution_count": 118,
     "metadata": {},
     "output_type": "execute_result"
    },
    {
     "data": {
      "image/png": "[encoded data removed]",
      "text/plain": [
       "<matplotlib.figure.Figure at 0xbedaba8>"
      ]
     },
     "metadata": {},
     "output_type": "display_data"
    }
   ],
   "source": [
    "# plot estimates with std as error bar to check how variances change as number of sample size increases\n",
    "plt.errorbar(sample_size, est_list2, yerr=std_list2)\n",
    "plt.xlabel(\"Sample Size\")\n",
    "plt.ylabel(\"Estimate of the Function Integral\")\n",
    "plt.title(\"Estimate value & std vs.Sample Size\")"
   ]
  },
  {
   "cell_type": "markdown",
   "metadata": {},
   "source": [
    "#### Explanation\n",
    "From the two charts above, we could see that as the number of samples increases, the standard deviation of the estimate decreases, which gives us a more accurate result."
   ]
  },
  {
   "cell_type": "markdown",
   "metadata": {},
   "source": [
    "# Problem 3: The Donut Estimation\n",
    "\n",
    "You bought a nice donut for yourself and decided to eat it in the evening while working on your AM207 assignments. \n",
    "Unfortunately you live in a shared apartment and your roommate got hold of the donut in the kitchen. It seems that he first\n",
    "cut off a small piece from the bottom, but then discovered how delicious the donut was and proceeded to cut off an additional large part. Discovering the donut theft in the evening you decide to confront your roommate, but you want to present hard facts and estimate how much of your original donut was left. \n",
    "\n",
    "Think of the donut as a 3D object(refer to the following picture). You model the donut as a torus centered at the origin`(0,0,0)` with outer radius `R=4` and inner radius `r=2`. Points $(x,y,z)$ inside the torus then are described by the following condition: \n",
    "$$z^2 + (\\sqrt{x^2 + y^2} - c)^2 \\leq a^2,$$\n",
    "where $c$ is the radius from origin to the center of the torus tube, and $a$ is the radius of the donut tube, the cross section of the donut tube is a circle.\n",
    "\n",
    "Your roomates cuts were first parallel to the x axis at y = -3, and then parallel to the y axis at x = 1.\n",
    "\n",
    "To estimate the weight of the donut you need to solve the integral\n",
    "\n",
    "$$ \\int_V \\rho \\,dx \\,dy \\,dz $$.\n",
    "\n",
    "Where $\\rho$ is the density of the donut and $V$ is the volume. As you are just interested in the percentage of the whole donut you got to eat, you can just assume $\\rho=1$.\n",
    "\n",
    "The weight of the whole original donut then was:\n",
    "\n",
    "$$ (\\pi a^2)\\cdot(2 \\cdot \\pi \\cdot c) $$\n",
    "\n",
    "What is the percentage of the donut your room mate left for you to eat? Don't forget to estimate the error as well!\n",
    "\n",
    "\n"
   ]
  },
  {
   "cell_type": "markdown",
   "metadata": {},
   "source": [
    "**Please answer this problem by adding cells here.**"
   ]
  },
  {
   "cell_type": "code",
   "execution_count": 156,
   "metadata": {
    "collapsed": false
   },
   "outputs": [],
   "source": [
    "# Define a,c\n",
    "a=1\n",
    "c=3\n",
    "\n",
    "# Define sample size lsit, number of tries\n",
    "N=np.linspace(100,10000,100)\n",
    "tries =100\n",
    "# Create list to store estimate and std for each sample size\n",
    "est_list = []\n",
    "std_list = []\n",
    "\n",
    "for n in N:\n",
    "    estimates = np.zeros(tries)\n",
    "    for t in range(tries):\n",
    "        X= np.random.uniform(low=-4, high=4, size=int(n))\n",
    "        Y= np.random.uniform(low=-4, high=4, size=int(n)) \n",
    "        Z= np.random.uniform(low=-1, high=1, size=int(n))\n",
    "        # count the points inside the donut\n",
    "        n_donut = np.sum((Z**2+(np.sqrt(X**2+Y**2)-c)**2)<=a**2) \n",
    "        # count the points not eaten\n",
    "        n_remain = np.sum(np.logical_and(np.logical_and(Z**2+(np.sqrt(X**2+Y**2)-c)**2<=a**2, Y>-3),X<1))\n",
    "        # caculate the percentge of the donut that is remained\n",
    "        estimates[t] = float(n_remain)/n_donut\n",
    "\n",
    "    est_list.append(estimates.mean())\n",
    "    std_list.append(estimates.std())"
   ]
  },
  {
   "cell_type": "code",
   "execution_count": 159,
   "metadata": {
    "collapsed": false
   },
   "outputs": [
    {
     "data": {
      "text/plain": [
       "<matplotlib.text.Text at 0xf345668>"
      ]
     },
     "execution_count": 159,
     "metadata": {},
     "output_type": "execute_result"
    },
    {
     "data": {
      "image/png": "[encoded data removed]",
      "text/plain": [
       "<matplotlib.figure.Figure at 0xc5fca58>"
      ]
     },
     "metadata": {},
     "output_type": "display_data"
    }
   ],
   "source": [
    "# plot estimates with std as error bar to check how variances change as number of sample size increases\n",
    "plt.errorbar(N, est_list, yerr=std_list)\n",
    "plt.xlabel(\"Number of Samples Drawn\")\n",
    "plt.ylabel(\"Percent of Donut Remaining\")\n",
    "plt.xticks(np.linspace(0, 10000, 11))\n",
    "plt.title(\"Estimate value & std vs.Sample Size\")"
   ]
  },
  {
   "cell_type": "markdown",
   "metadata": {},
   "source": [
    "From the plot above, we can conclude that the donut my room mate left for me to eat is about 54%. As the sample size increases, the result becomes more accurate."
   ]
  },
  {
   "cell_type": "markdown",
   "metadata": {},
   "source": [
    "# Problem 4: New Years Resolutions\n",
    "\n",
    "A lot of people pledge to get more active in the new year. Unfortunately these resolutions often are short lived. We model the probability distribution of personal fitness over the months of a year with a skewed distribution:\n",
    "\n",
    "$ P(t) = \\lambda \\frac{(t-0.9)}{(t-1)^2 + 1}, \\; 1 \\leq t \\leq 12 $\n",
    "\n",
    "$ P(t) = 0 \\; otherwise$\n",
    "\n",
    "Where $t=1$ corresponds to January, $t=2$ corresponds to February, etc.. $\\lambda$ is a normalization constant, and t is measured in months ($t$ only takes integer values). \n",
    "\n",
    "* Plot the given distribution and compute the normalization factor\n",
    "* Sample $10^5$ samples from the distribution given above using rejection sampling. \n",
    "* Plot the histogram of the simulated samples and compare it to the true distribution (hint: It's easiest to use the normalization factor computed above and then plot the normed version of the histogram against it.\n",
    "* Repeat the first two steps using the inverse transform instead of rejection sampling. Do not bother with getting the anti-derivative analytically. Just build a lookup table for it. \n",
    "* Compare the execution time of both methods. Which one is faster and why? When would you prefer a lookup table and when an analytical solution to the anti-derivative?"
   ]
  },
  {
   "cell_type": "markdown",
   "metadata": {},
   "source": [
    "**Please answer this problem by adding cells here.**"
   ]
  },
  {
   "cell_type": "markdown",
   "metadata": {},
   "source": [
    "### 1. Plot the given distribution and compute the normalization factor"
   ]
  },
  {
   "cell_type": "code",
   "execution_count": 161,
   "metadata": {
    "collapsed": false
   },
   "outputs": [
    {
     "name": "stdout",
     "output_type": "stream",
     "text": [
      "Normalization Factor: 0.39203851592\n"
     ]
    }
   ],
   "source": [
    "# calculate the normalization factor\n",
    "t = np.linspace(1,12,12)\n",
    "f = lambda x,lam: lam*(x-0.9)/((x-1)**2+1)\n",
    "lam = 1./f(t,1).sum()\n",
    "print 'Normalization Factor:', lam"
   ]
  },
  {
   "cell_type": "code",
   "execution_count": 163,
   "metadata": {
    "collapsed": false
   },
   "outputs": [
    {
     "data": {
      "text/plain": [
       "<matplotlib.text.Text at 0x10fb07f0>"
      ]
     },
     "execution_count": 163,
     "metadata": {},
     "output_type": "execute_result"
    },
    {
     "data": {
      "image/png": "[encoded data removed]",
      "text/plain": [
       "<matplotlib.figure.Figure at 0x1102d400>"
      ]
     },
     "metadata": {},
     "output_type": "display_data"
    }
   ],
   "source": [
    "# plot the distribution\n",
    "plt.bar(t, f(t,lam), align='center')\n",
    "plt.xticks(np.linspace(1,12,12))\n",
    "plt.xlim([0,13])\n",
    "plt.xlabel(\"Month\")\n",
    "plt.ylabel(\"Probability Distribution of Fitness\")"
   ]
  },
  {
   "cell_type": "markdown",
   "metadata": {},
   "source": [
    "### 2. Sample $10^5$ samples from the distribution given above using rejection sampling."
   ]
  },
  {
   "cell_type": "code",
   "execution_count": 165,
   "metadata": {
    "collapsed": true
   },
   "outputs": [],
   "source": [
    "import time"
   ]
  },
  {
   "cell_type": "code",
   "execution_count": 169,
   "metadata": {
    "collapsed": false
   },
   "outputs": [
    {
     "name": "stdout",
     "output_type": "stream",
     "text": [
      "Total samples drawn:  1200394\n",
      "Number of accepted samples:  100000\n",
      "Wall time: 7.38 s\n"
     ]
    }
   ],
   "source": [
    "%%time\n",
    "P = lambda x: lam*(x-0.9)/((x-1)**2+1)\n",
    "# range limit (supremum) for y\n",
    "ymax = 1\n",
    "\n",
    "N = 10**5 # the total of samples we wish to generate\n",
    "accepted = 0 # the number of accepted samples\n",
    "samples = np.zeros(N)\n",
    "count = 0 # the total count of proposals\n",
    "\n",
    "# generation loop\n",
    "while (accepted < N):\n",
    "    \n",
    "    # pick a uniform number on [xmin, xmax) (e.g. 0...10)\n",
    "    x = np.random.choice(t)\n",
    "    \n",
    "    # pick a uniform number on [0, ymax)\n",
    "    y = np.random.uniform(0,ymax)\n",
    "    \n",
    "    # Do the accept/reject comparison\n",
    "    if y < P(x):\n",
    "        samples[accepted] = x\n",
    "        accepted += 1\n",
    "    \n",
    "    count +=1\n",
    "    \n",
    "print \"Total samples drawn: \",count\n",
    "print \"Number of accepted samples: \", accepted\n"
   ]
  },
  {
   "cell_type": "markdown",
   "metadata": {},
   "source": [
    "### 3. Plot the histogram of the simulated samples and compare it to the true distribution (hint: It's easiest to use the normalization factor computed above and then plot the normed version of the histogram against it."
   ]
  },
  {
   "cell_type": "code",
   "execution_count": 171,
   "metadata": {
    "collapsed": false
   },
   "outputs": [
    {
     "data": {
      "text/plain": [
       "<matplotlib.text.Text at 0xb644588>"
      ]
     },
     "execution_count": 171,
     "metadata": {},
     "output_type": "execute_result"
    },
    {
     "data": {
      "image/png": "[encoded data removed]",
      "text/plain": [
       "<matplotlib.figure.Figure at 0xc0513c8>"
      ]
     },
     "metadata": {},
     "output_type": "display_data"
    }
   ],
   "source": [
    "plt.hist(samples, bins=12, label=u'Estimates', normed=True);\n",
    "plt.plot(t,f(t,lam),'ro-', label=u'P(x)' )\n",
    "plt.legend()\n",
    "plt.xlabel(\"Month\")\n",
    "plt.ylabel(\"Probability\")"
   ]
  },
  {
   "cell_type": "markdown",
   "metadata": {},
   "source": [
    "### 4. Repeat the first two steps using the inverse transform instead of rejection sampling. Do not bother with getting the anti-derivative analytically. Just build a lookup table for it."
   ]
  },
  {
   "cell_type": "code",
   "execution_count": 174,
   "metadata": {
    "collapsed": false
   },
   "outputs": [
    {
     "name": "stdout",
     "output_type": "stream",
     "text": [
      "[ 0.03920385  0.25482504  0.41948121  0.54101315  0.63556362  0.71246348\n",
      "  0.77709686  0.83276633  0.88162036  0.92512707  0.96433092  1.        ]\n"
     ]
    }
   ],
   "source": [
    "# Build a look up table of CDF\n",
    "cdf = np.zeros(12)\n",
    "cdf[0] = P(1)\n",
    "for i in range(1,12):\n",
    "    cdf[i] = np.sum(cdf[i-1])+P(i+1)\n",
    "print cdf"
   ]
  },
  {
   "cell_type": "code",
   "execution_count": 176,
   "metadata": {
    "collapsed": false
   },
   "outputs": [
    {
     "name": "stdout",
     "output_type": "stream",
     "text": [
      "Wall time: 327 ms\n"
     ]
    }
   ],
   "source": [
    "%%time\n",
    "# range limits for inverse sampling\n",
    "rmin = 0\n",
    "rmax = 1\n",
    "\n",
    "R = np.random.uniform(rmin,rmax,N)\n",
    "X = np.zeros(N)\n",
    "for i in range(N):\n",
    "    for j in range(12):\n",
    "        if cdf[j] > R[i]:\n",
    "            X[i] = j+1\n",
    "            break"
   ]
  },
  {
   "cell_type": "code",
   "execution_count": 177,
   "metadata": {
    "collapsed": false
   },
   "outputs": [
    {
     "data": {
      "text/plain": [
       "<matplotlib.text.Text at 0xa48f400>"
      ]
     },
     "execution_count": 177,
     "metadata": {},
     "output_type": "execute_result"
    },
    {
     "data": {
      "image/png": "[encoded data removed]",
      "text/plain": [
       "<matplotlib.figure.Figure at 0xb62d630>"
      ]
     },
     "metadata": {},
     "output_type": "display_data"
    }
   ],
   "source": [
    "plt.hist(X, bins=12, label=u'Estimates', normed=True);\n",
    "plt.plot(t,f(t,lam),'ro-', label=u'P(x)' )\n",
    "plt.legend()\n",
    "plt.xlabel(\"Month\")\n",
    "plt.ylabel(\"Probability\")"
   ]
  },
  {
   "cell_type": "markdown",
   "metadata": {},
   "source": [
    "### 5. Compare the execution time of both methods. Which one is faster and why? When would you prefer a lookup table and when an analytical solution to the anti-derivative?"
   ]
  },
  {
   "cell_type": "markdown",
   "metadata": {},
   "source": [
    "From the computation time we got above, we could see that inverse transform is much faster. When doing rejection sampling, in order to get $10^5$ accepted samples, we actually tried $1200394$ samples. However, when doing inverse transform, we only tried exactly $10^5$ points. \n",
    "\n",
    "I would prefer a lookup table when pdf is discrete and we do not have that many x-values. However, when pdf is continuous and the computation of the anti-derivative is very difficult, I would prefer an analytical solution."
   ]
  },
  {
   "cell_type": "markdown",
   "metadata": {},
   "source": [
    "# Problem 5: Give it all!\n",
    "\n",
    "Estimate the following integral:\n",
    "\n",
    "$ \\int_{-1}^{1} \\int_{-1}^{1}  f(x,y) \\,dx \\,dy$, with \n",
    "\n",
    "$g_1(x,y) = -(x+0.4)^2 - (y+0.4)^2 + 0.1$\n",
    "\n",
    "$g_2(x,y) = -(x-0.4)^2 - (y-0.4)^2 + 0.05$\n",
    "\n",
    "$f(x,y) = \\max(g_1(x,y), 0) + \\max(g_2(x,y), 0)$\n",
    "\n",
    "\n",
    "First use basic Monte Carlo estimation. Then apply different variance reduction techniques we discussed in the lecture: \n",
    "* stratified sampling, \n",
    "* control variates, \n",
    "* importance sampling\n",
    "\n",
    "For each technique give a short explanation of how you are applying it to the problem. Implement the different techniques and then make a table and compare the results with respect to run-time and error in the estimate. \n",
    "\n",
    "You can choose to also either apply and explain antithetic variates, or explain why you don't think they are useful in this case, and how they could benefit of being combined with one of the techniques listed above. "
   ]
  },
  {
   "cell_type": "markdown",
   "metadata": {},
   "source": [
    "**Please answer this problem by adding cells here.**"
   ]
  },
  {
   "cell_type": "code",
   "execution_count": 235,
   "metadata": {
    "collapsed": true
   },
   "outputs": [],
   "source": [
    "# define the function\n",
    "g1 = lambda x, y: - (x+0.4)**2 - (y+0.4)**2 + 0.1\n",
    "g2 = lambda x, y: - (x-0.4)**2 - (y-0.4)**2 + 0.05\n",
    "f = lambda x, y: np.maximum(g1(x , y), 0)+ np.maximum(g2(x, y),0)\n",
    "\n",
    "#x,y limits\n",
    "xmin=-1.\n",
    "xmax=1.\n",
    "ymin=-1.\n",
    "ymax=1."
   ]
  },
  {
   "cell_type": "markdown",
   "metadata": {},
   "source": [
    "### Basic Monte Carlo Estimation"
   ]
  },
  {
   "cell_type": "code",
   "execution_count": 341,
   "metadata": {
    "collapsed": false
   },
   "outputs": [
    {
     "name": "stdout",
     "output_type": "stream",
     "text": [
      "time:  0.740000009537 s\n"
     ]
    }
   ],
   "source": [
    "start = time.time()\n",
    "N = 10000 #sample size\n",
    "tries = 1000 # number of tries\n",
    "basic_MC = np.zeros(tries)\n",
    "\n",
    "for i in range(tries):\n",
    "    x = np.random.uniform(xmin,xmax,N)\n",
    "    y = np.random.uniform(ymin,ymax,N)\n",
    "    basic_MC[i] = np.mean(f(x,y))*(xmax-xmin)*(ymax-ymin)\n",
    "\n",
    "bmc_t = time.time() -start\n",
    "print \"time: \", bmc_t, 's'"
   ]
  },
  {
   "cell_type": "code",
   "execution_count": 284,
   "metadata": {
    "collapsed": false,
    "scrolled": true
   },
   "outputs": [
    {
     "name": "stdout",
     "output_type": "stream",
     "text": [
      "mean:  0.0196119427653 , std:  0.000674679444505\n"
     ]
    },
    {
     "data": {
      "image/png": "[encoded data removed]",
      "text/plain": [
       "<matplotlib.figure.Figure at 0xf214198>"
      ]
     },
     "metadata": {},
     "output_type": "display_data"
    }
   ],
   "source": [
    "plt.hist(basic_MC, label='Basic MC')\n",
    "plt.xlabel(\"Estimates\")\n",
    "plt.ylabel(\"Frequency\")\n",
    "plt.legend()\n",
    "print \"mean: \", np.mean(basic_MC), \", std: \", np.std(basic_MC)"
   ]
  },
  {
   "cell_type": "markdown",
   "metadata": {},
   "source": [
    "### Stratified Sampling\n",
    "We set our strata as 10, which means we divided the range of x and y into 10 strata and then in each strata we take $N/(10*10)$ samples. And we then summed the estimation in each strata to get an estimate for the whole integral."
   ]
  },
  {
   "cell_type": "code",
   "execution_count": 343,
   "metadata": {
    "collapsed": false
   },
   "outputs": [
    {
     "name": "stdout",
     "output_type": "stream",
     "text": [
      "time:  7.0759999752 s\n"
     ]
    }
   ],
   "source": [
    "start = time.time()\n",
    "M = 10 #number of stratas\n",
    "step_size = (ymax-ymin)/M #step size (x,y have same range so we just need to set one stepsize)\n",
    "est_strat = np.zeros(tries)\n",
    "\n",
    "for i in range(tries):\n",
    "    # initialize xbounds for the first strata\n",
    "    xmin_s = xmin\n",
    "    for j in range(M):\n",
    "        # initialize ybounds for the first strata\n",
    "        ymin_s = ymin\n",
    "        xmax_s = xmin_s + step_size\n",
    "        for k in range(M):\n",
    "            ymax_s = ymin_s+step_size \n",
    "            x = np.random.uniform(xmin_s,xmax_s,N/M**2)\n",
    "            y = np.random.uniform(ymin_s,ymax_s,N/M**2)\n",
    "            est_strat[i] += np.mean(f(x,y))*step_size**2\n",
    "            # update ymin\n",
    "            ymin_s += step_size\n",
    "        # update x_min\n",
    "        xmin_s += step_size \n",
    "str_t = time.time() -start\n",
    "print \"time: \", str_t, 's'"
   ]
  },
  {
   "cell_type": "code",
   "execution_count": 287,
   "metadata": {
    "collapsed": false
   },
   "outputs": [
    {
     "name": "stdout",
     "output_type": "stream",
     "text": [
      "stratified mean:  0.0196197912848 , stratified std:  0.000267714714201\n"
     ]
    },
    {
     "data": {
      "image/png": "[encoded data removed]",
      "text/plain": [
       "<matplotlib.figure.Figure at 0x13986470>"
      ]
     },
     "metadata": {},
     "output_type": "display_data"
    }
   ],
   "source": [
    "plt.hist(est_strat, label='Stratified Sampling')\n",
    "plt.hist(basic_MC, alpha=0.3,label='Basic MC')\n",
    "plt.xlabel(\"Estimates\")\n",
    "plt.ylabel(\"Frequency\")\n",
    "plt.legend()\n",
    "print \"stratified mean: \", np.mean(est_strat), \", stratified std: \", np.std(est_strat)"
   ]
  },
  {
   "cell_type": "markdown",
   "metadata": {},
   "source": [
    "From the plot above, we can see that stratified sampling significantly reduced the variance of our estimates. However, the computation time increased a lot."
   ]
  },
  {
   "cell_type": "markdown",
   "metadata": {},
   "source": [
    "### Control Variates\n",
    "For control variates, we take some g(x) that we know the expectation value. Use the formula below to contruct a new f(x):\n",
    "\n",
    "$f^*(x) = f(x) + b[g(x) - \\tau]$ where $E(g(x))=\\tau$ and $b=-cov(f,g)/var(g)$\n",
    "\n",
    "so that $E[f^*(x)]=E[f(x)]+b[E[g(x)]-\\tau]=E[f(x)]$\n",
    "\n",
    "$var(f^*(x))=var(f(x))+b^2var(g(x))+2bcov(f,g)=var(f)[(1-$ ${cov(f,g)^2}\\over{var(g)var(f)}$]\n",
    "\n",
    "So the more f\n",
    "(x) and g(x) are correlated, the more variance could be reduced by control variates.\n",
    "\n",
    "The function we have is $ \\int_{-1}^{1} \\int_{-1}^{1}  f(x,y) \\,dx \\,dy$, with \n",
    "\n",
    "$g_1(x,y) = -(x+0.4)^2 - (y+0.4)^2 + 0.1$\n",
    "\n",
    "$g_2(x,y) = -(x-0.4)^2 - (y-0.4)^2 + 0.05$\n",
    "\n",
    "$f(x,y) = \\max(g_1(x,y), 0) + \\max(g_2(x,y), 0)$\n",
    "\n",
    "We could see from above that, f(x,y) seems to have two peaks. One is at (x,y)=(-0.4,-0.4); another is at (x,y)=(0.4,0.4). So I decided to use the sum of two bivariate normal distribution as our g(x,y). One bivariate normal distribution should be centered at (-0.4,-0.4) with a peak around 0.1 and another should be centered at (0.4,0.4) with a peak around 0.05.\n",
    "\n",
    "Bivariate normal distribution also needs sigma parameter.\n",
    "I tried some different values of sigma1 and sigma2 and figured out that sigma1=0.1 and sigma2=0.2 have a pretty good performance."
   ]
  },
  {
   "cell_type": "code",
   "execution_count": 334,
   "metadata": {
    "collapsed": true
   },
   "outputs": [],
   "source": [
    "# set up the parameters for the two bivariate normal distribution\n",
    "sigma1 = 0.1\n",
    "sigma2 = 0.2\n",
    "mu1 = -0.4\n",
    "mu2 = 0.4"
   ]
  },
  {
   "cell_type": "code",
   "execution_count": 279,
   "metadata": {
    "collapsed": false
   },
   "outputs": [
    {
     "name": "stdout",
     "output_type": "stream",
     "text": [
      "tau1:  0.249230000519\n",
      "tau1 Std:  0.014187319874\n",
      "tau2:  0.24939619599\n",
      "tau2 Std:  0.00652414720254\n"
     ]
    }
   ],
   "source": [
    "# calculate tau1 and tau2 by using basic monte carlo to estimate the expectation value of g1(x,y) and g2(x,y)\n",
    "# define function\n",
    "gbn1 = lambda x, y : 1./(2 * np.pi * sigma1**2)*np.exp(- ((x-mu1)**2 + (y-mu1)**2) / (2 * sigma1**2))\n",
    "gbn2 = lambda x, y : 1./(2 * np.pi * sigma2**2)*np.exp(- ((x-mu2)**2 + (y-mu2)**2) / (2 * sigma2**2))\n",
    "\n",
    "# create array to store our estimates \n",
    "est1 = np.zeros(tries)\n",
    "est2= np.zeros(tries)\n",
    "\n",
    "for i in range(tries):\n",
    "    x = np.random.uniform(xmin, xmax, N)\n",
    "    y = np.random.uniform(xmin, xmax, N)\n",
    "    est1[i] = np.mean(gbn1(x,y))\n",
    "    est2[i] = np.mean(gbn2(x,y))\n",
    "    \n",
    "# compute tau1,tau2 and tau\n",
    "tau1 = np.mean(est1)\n",
    "tau2 = np.mean(est2)\n",
    "tau = tau1 + tau2\n",
    "\n",
    "print \"tau1: \", tau1\n",
    "print \"tau1 Std: \", np.std(est1)\n",
    "\n",
    "print \"tau2: \", tau2\n",
    "print \"tau2 Std: \", np.std(est2)"
   ]
  },
  {
   "cell_type": "code",
   "execution_count": 344,
   "metadata": {
    "collapsed": false
   },
   "outputs": [
    {
     "name": "stdout",
     "output_type": "stream",
     "text": [
      "time:  1.92499995232 s\n"
     ]
    }
   ],
   "source": [
    "start = time.time()\n",
    "### Do the control variate part\n",
    "est_cv = np.zeros(tries) # array to store estimates\n",
    "for i in range(tries):\n",
    "    x = np.random.uniform(xmin, xmax, N)\n",
    "    y = np.random.uniform(xmin, xmax, N)\n",
    "    f_value = f(x,y)\n",
    "    g1_value = gbn1(x,y)\n",
    "    g2_value = gbn2(x,y)\n",
    "    g_value = g1_value + g2_value\n",
    "    \n",
    "    # compute b\n",
    "    b = -np.cov(g_value,f_value)[0,1]/np.var(g_value)\n",
    "    \n",
    "    # compute the estimate\n",
    "    est_cv[i] = (xmax-xmin)*(ymax-ymin)*(np.mean(f_value) + b * (np.mean(g_value) - tau)) \n",
    "\n",
    "cv_t = time.time() -start\n",
    "print \"time: \", cv_t, 's'"
   ]
  },
  {
   "cell_type": "code",
   "execution_count": 281,
   "metadata": {
    "collapsed": false
   },
   "outputs": [
    {
     "name": "stdout",
     "output_type": "stream",
     "text": [
      "CV mean:  0.0196011563611 , CV std:  0.000356892388889\n"
     ]
    },
    {
     "data": {
      "image/png": "[encoded data removed]",
      "text/plain": [
       "<matplotlib.figure.Figure at 0x12ae9cc0>"
      ]
     },
     "metadata": {},
     "output_type": "display_data"
    }
   ],
   "source": [
    "plt.hist(est_cv, label='Control Variates')\n",
    "plt.hist(basic_MC, alpha=0.3,label='Basic MC')\n",
    "plt.xlabel(\"Estimates\")\n",
    "plt.ylabel(\"Frequency\")\n",
    "plt.legend()\n",
    "print \"CV mean: \", np.mean(est_cv), \", CV std: \", np.std(est_cv)"
   ]
  },
  {
   "cell_type": "markdown",
   "metadata": {},
   "source": [
    "From above, We could see that the control variate method method also successfully reduced the variance and get a similar result as stratified sampling while it takes less time. However, normally it is not that easy to find an appropriate g(x)."
   ]
  },
  {
   "cell_type": "markdown",
   "metadata": {},
   "source": [
    "### Importance Sampling"
   ]
  },
  {
   "cell_type": "markdown",
   "metadata": {},
   "source": [
    "The key idea behind importance sampling is that instead of giving every value same weight when doing the sampling, we sample some \"important\" values more frequently to reduce the variance. So we need to choose a distribution g(x) that could make us sample those \"important\" values more. Then instead of integrating the original f(x), we use g(x) to construct a function to integrate:\n",
    "$$\\int g(x, y) \\frac{f(x, y)}{g(x, y)} dxdy $$\n",
    "The more g(x,y) lloks like f(x,y), the better performance we could get.\n",
    "Here I will just use the sum of the two bivariate normal distribution above as our g(x)."
   ]
  },
  {
   "cell_type": "code",
   "execution_count": 345,
   "metadata": {
    "collapsed": false,
    "scrolled": true
   },
   "outputs": [
    {
     "name": "stdout",
     "output_type": "stream",
     "text": [
      "time:  3.41300010681 s\n"
     ]
    }
   ],
   "source": [
    "start = time.time()\n",
    "from scipy.stats import mvn\n",
    "\n",
    "# set up the parameters\n",
    "low = np.array([xmin, ymin])\n",
    "upp = np.array([xmax, ymax])\n",
    "m1 = np.array([mu1, mu1])\n",
    "m2 = np.array([mu2, mu2])\n",
    "sig1 = np.array([[sigma1**2, 0], [0, sigma1**2]])\n",
    "sig2 = np.array([[sigma2**2, 0], [0, sigma2**2]])\n",
    "\n",
    "est_is = np.zeros(tries)\n",
    "for i in range(tries):\n",
    "    # x and y are symmetric, we could draw them together. (draw 2n because we need to filter later)\n",
    "    z1 = mu1 + sigma1 * np.random.randn(2*N, 1)\n",
    "    z1 = z1[(z1<xmax) & (z1>xmin)]\n",
    "    x1 = z1[:N/2]\n",
    "    y1 = z1[-N/2:]\n",
    "\n",
    "    # Similarly, the other half are drawn from the second distribution.\n",
    "    z2 = mu2 + sigma2 * np.random.randn(2*N, 1)\n",
    "    z2 = z2[(z2<xmax) & (z2>xmin)]\n",
    "    x2 = z2[:N/2]\n",
    "    y2 = z2[-N/2:]\n",
    "\n",
    "    # combine the samples together.\n",
    "    x = np.append(x1,x2)\n",
    "    y = np.append(y1,y2)\n",
    "\n",
    "    #calculate f/p\n",
    "    val = f(x,y)/(gbn1(x,y)+gbn2(x,y))\n",
    "    #get normalization\n",
    "    p1, i1 = mvn.mvnun(low,upp,m1,sig1)\n",
    "    p2, i2 = mvn.mvnun(low,upp,m2,sig2)\n",
    "    normal = p1+p2\n",
    "    \n",
    "    # caculate estimate\n",
    "    est_is[i] = np.mean(val)*normal\n",
    "\n",
    "is_t = time.time() -start\n",
    "print \"time: \", is_t, 's'"
   ]
  },
  {
   "cell_type": "code",
   "execution_count": 340,
   "metadata": {
    "collapsed": false
   },
   "outputs": [
    {
     "name": "stdout",
     "output_type": "stream",
     "text": [
      "IS mean:  0.0196224094027 IS std: 0.000197909430904\n"
     ]
    },
    {
     "data": {
      "image/png": "[encoded data removed]",
      "text/plain": [
       "<matplotlib.figure.Figure at 0xda1beb8>"
      ]
     },
     "metadata": {},
     "output_type": "display_data"
    }
   ],
   "source": [
    "plt.hist(est_is, label='Importance Sampling')\n",
    "plt.hist(basic_MC, alpha=0.3,label='Basic MC')\n",
    "plt.xlabel(\"Estimates\")\n",
    "plt.ylabel(\"Frequency\")\n",
    "plt.legend()\n",
    "print \"IS mean: \", np.mean(est_is), \"IS std:\", np.std(est_is)"
   ]
  },
  {
   "cell_type": "markdown",
   "metadata": {},
   "source": [
    "From the above plot, we could see that importance sampling significantly reduced the variance while it takes more time than control variates method."
   ]
  },
  {
   "cell_type": "markdown",
   "metadata": {},
   "source": [
    "### Comparison"
   ]
  },
  {
   "cell_type": "code",
   "execution_count": 352,
   "metadata": {
    "collapsed": false
   },
   "outputs": [
    {
     "data": {
      "text/plain": [
       "<matplotlib.text.Text at 0x14297588>"
      ]
     },
     "execution_count": 352,
     "metadata": {},
     "output_type": "execute_result"
    },
    {
     "data": {
      "image/png": "[encoded data removed]",
      "text/plain": [
       "<matplotlib.figure.Figure at 0xef41fd0>"
      ]
     },
     "metadata": {},
     "output_type": "display_data"
    }
   ],
   "source": [
    "time = [bmc_t, str_t, cv_t, is_t]\n",
    "std = [np.std(basic_MC), np.std(est_strat), np.std(est_cv), np.std(est_is)]\n",
    "name = ['bmc', 'str', 'cv', 'IS']\n",
    "\n",
    "plt.figure(1, figsize=(8,4))\n",
    "plt.subplot(121)\n",
    "plt.bar(range(4), time)\n",
    "plt.xticks(np.arange(4)+0.4, name )\n",
    "plt.title(\"Time\")\n",
    "\n",
    "plt.subplot(122)\n",
    "plt.bar(range(4), std)\n",
    "plt.xticks(np.arange(4)+0.4, name )\n",
    "plt.title(\"Standard Deviation\")"
   ]
  },
  {
   "cell_type": "markdown",
   "metadata": {},
   "source": [
    "From the plot above, we can see that basic monte carlo takes the least time while the std is the greatest. Importance sampling has the smallest std and a reasonable time. Control variate method takes second least time and reduces the variance quite a lot. Stratified sampling has the second smallest std while takes the most time. Thus, I would say control variates and importance variance have a relatively better performance. However, the performance of these two methods higly depend on the g(x) we set. So if we do not have much information about the distribution then stratified sampling may be a better approach. "
   ]
  },
  {
   "cell_type": "markdown",
   "metadata": {},
   "source": [
    "### 6. Antithetic Variates"
   ]
  },
  {
   "cell_type": "markdown",
   "metadata": {},
   "source": [
    "It is not that useful to use antithetic variates method here. Because f(x,y) is not monotonic."
   ]
  }
 ],
 "metadata": {
  "kernelspec": {
   "display_name": "Python 2",
   "language": "python",
   "name": "python2"
  },
  "language_info": {
   "codemirror_mode": {
    "name": "ipython",
    "version": 2
   },
   "file_extension": ".py",
   "mimetype": "text/x-python",
   "name": "python",
   "nbconvert_exporter": "python",
   "pygments_lexer": "ipython2",
   "version": "2.7.11"
  }
 },
 "nbformat": 4,
 "nbformat_minor": 0
}
