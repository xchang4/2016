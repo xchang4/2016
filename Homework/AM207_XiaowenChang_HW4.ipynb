{
 "cells": [
  {
   "cell_type": "markdown",
   "metadata": {},
   "source": [
    "# **AM 207**: Homework 4"
   ]
  },
  {
   "cell_type": "markdown",
   "metadata": {
    "collapsed": true
   },
   "source": [
    "Verena Kaynig-Fittkau and Pavlos Protopapas  <br>\n",
    "**Due: 11.59 P.M. Thursday April 7th, 2016**"
   ]
  },
  {
   "cell_type": "markdown",
   "metadata": {},
   "source": [
    "### Instructions:\n",
    "\n",
    "+ Upload your answers in an ipython notebook to Canvas.\n",
    "\n",
    "+ We will provide you imports for your ipython notebook. Please do not import additional libraries.\n",
    "\n",
    "+ Your individual submissions should use the following filenames: AM207_YOURNAME_HW4.ipynb\n",
    "\n",
    "+ Your code should be in code cells as part of your ipython notebook. Do not use a different language (or format). \n",
    "\n",
    "+ **Do not just send your code. The homework solutions should be in a report style. Be sure to add comments to your code as well as markdown cells where you describe your approach and discuss your results. **\n",
    "\n",
    "+ Please submit your notebook in an executed status, so that we can see all the results you computed. However, we will still run your code and all cells should reproduce the output when executed. \n",
    "\n",
    "+ If you have multiple files (e.g. you've added code files or images) create a tarball for all files in a single file and name it: AM207_YOURNAME_HW4.tar.gz or AM207_YOURNAME_HW4.zip\n",
    "\n",
    "\n",
    "### Have Fun!\n",
    "_ _ _ _ _"
   ]
  },
  {
   "cell_type": "code",
   "execution_count": 3,
   "metadata": {
    "collapsed": false
   },
   "outputs": [],
   "source": [
    "import numpy as np\n",
    "import matplotlib\n",
    "import matplotlib.pyplot as plt\n",
    "%matplotlib inline\n",
    "\n",
    "import seaborn as sns\n",
    "sns.set_style(\"white\")\n",
    "\n",
    "import time\n",
    "import timeit\n",
    "\n",
    "import scipy.stats \n",
    "import pandas as pd\n",
    "import pymc as pm\n",
    "\n",
    "import re\n",
    "import numpy as np\n",
    "import math"
   ]
  },
  {
   "cell_type": "markdown",
   "metadata": {},
   "source": [
    "# Problem 1: Bayesian Models for Yelp Check-in Data\n",
    "\n",
    "Below is a visualization of Yelp checkins on a portion of the Las-Vegas strip. The goal of this problem is to model an intensity surface on this map which is indicative of the propensity of an individual to check in at a particular location.\n",
    "<img src=\"Rplot.jpeg\">\n",
    "Such an intensity surface is very valuable for example to decide what would be good places to open another casino or restaurant. \n",
    "\n",
    "The first hierarchical model will use a conjugate prior (and hence we can compute an analytical solution) and the second will use a non-conjugate set up with correlated priors.\n",
    "\n",
    "### Data description\n",
    "We have M grid squares of width $w=0.0005$. The variable `checkins` contains M checkin values, one for each square. The variable `X` contains the coordinates of the center of each square. This data set is a subset of the map shown above."
   ]
  },
  {
   "cell_type": "code",
   "execution_count": 5,
   "metadata": {
    "collapsed": false
   },
   "outputs": [],
   "source": [
    "#load checkins\n",
    "checkins = np.genfromtxt('checkin_counts.csv', delimiter=',')\n",
    "#load latitude and longitude values associated with each count value\n",
    "X = np.genfromtxt('X.csv', delimiter=',')\n",
    "#set M to the length of the checkins vector\n",
    "M = checkins.size\n",
    "#set grid width w to be .0005 latitude/longitude\n",
    "w = .0005"
   ]
  },
  {
   "cell_type": "markdown",
   "metadata": {},
   "source": [
    "### Conjugate Model\n",
    "In the first model, we assume that a map (i.e., the Las Vegas strip) is discretized into $M$ grid squares of width $w$, and the checkins in cell $i$, denoted by $Y_i$, are distributed according to a $Pois(w^2\\lambda_i)$ distribution. (That is, the check-ins follow a Poisson process conditioning on the $\\lambda$, and $\\lambda \\in \\mathbb{R}^M$ is the intensity surface we would like to infer.) Furthermore $\\lambda_i$ is drawn from a conjugate $Gamma(\\alpha, \\beta)$ distribution. The $Y_i$ are conditionally independent on $\\lambda_i$, and $\\lambda_i$ is indepndent of $\\lambda_j$ for $i \\neq j$.\n",
    "\n",
    "Derive the posterior distribution $p(\\lambda_i|Y_i)$ for this model analytically as a function of hyperparameters $\\alpha$ and $\\beta$. Use the posterior mean as an estimate for $\\lambda_i$, and then plot the posterior mean of $\\lambda_i$ on a grid for varying values of $\\alpha$ and $\\beta$. Discuss if this model leads to a useful intensity surface, and how the usefulness of the result is influenced by the choice of $\\alpha$ and $\\beta$.\n",
    "\n",
    "### Non-Conjugate Model\n",
    "Now let's move on to a slightly more complicated model. Again assume that the grid is discretized into $M$ cells of the same area, and the checkins in cell $i$, denoted by $Y_i$, are distributed according to a $Pois(w^2\\lambda_i)$ distribution. However there is a twist: we assume $\\lambda_i$ is equivalent to $Exp[\\alpha+Z_i]$ where $Z \\in \\mathbb{R}^{M}$ is drawn from a multivariate normal $MVN(0,\\Sigma)$ distribution, where $\\Sigma$ comes from a squared exponential kernel, and $\\alpha$ is drawn according to a N(0,1) distribution. In this way, the $\\lambda_i$ for distinct cells are no longer independent but are correlated.(If you'd like to delve deeper, this process is called a \"Log-Gaussian Cox process\".)\n",
    "\n",
    "Describe what the meaning of $\\alpha$ and $\\Sigma$ is for this model. \n",
    "\n",
    "We model $\\Sigma$ using a square exponential kernel such that the covariances decay exponentially quickly as points get further apart from each other. That is $$\\Sigma_{ij} = Exp[-||X_i-X_j||_2^2/\\phi]$$\n",
    "\n",
    "Where $X_i$ and $X_j$ are the $ith$ and $jth$ rows of $X$ respectively. Describe in which way the choice of $\\phi$ influences the kernel. By default, use $\\phi = .00001$. \n",
    "\n",
    "To simplify your code, consider the prior parameters/latent variables ($\\alpha$, $Z$) jointly as a vector in $\\mathbb{R}^{M+1}$. Determine the covariance matrix for the multivariate normal prior on this vector and store it all together in a variable called Sigma. Give a short explanation why we can do this. \n",
    "When you implement the computation of $\\Sigma$, small numerical instabilities can lead to a covariance matrix that is not positive-semidefinite. You can check this by attempting a Cholesky decomposition of $\\Sigma$ with numpy. If it throws an error, you can add a small offset to the diagonal of the matrix to help with numerical stability. \n",
    "\n",
    "We will provide you with code for an elliptical slice sampler for this problem. This sampling method was directly devloped for problems like this and we will discuss it later in class. For now it is sufficient for you to use the code, without neccessarily understanding it. Use the provided sampler to estimate the posterior mean for this non-conjugate model. In addition implement the model also in PYMC or vanilla Metropolis Hastings, and compare the result. \n",
    "\n",
    "Finally discuss the differences in results from the conjugate and the non-conjugate model and which one you would prefer. "
   ]
  },
  {
   "cell_type": "markdown",
   "metadata": {},
   "source": [
    "### Helper functions\n",
    "\n",
    "Here is some code that should be useful:"
   ]
  },
  {
   "cell_type": "code",
   "execution_count": 10,
   "metadata": {
    "collapsed": false
   },
   "outputs": [
    {
     "data": {
      "image/png": "[encoded data removed]",
      "text/plain": [
       "<matplotlib.figure.Figure at 0x22d6e4e0>"
      ]
     },
     "metadata": {},
     "output_type": "display_data"
    }
   ],
   "source": [
    "# This function takes a vector of M intensities and plots it according to the coordinates in `X`.\n",
    "# The values of the intensities are normalized to [0,1] and darker means higher values\n",
    "def plot_checkins(checkins):\n",
    "    colors = checkins / np.double(np.max(checkins))\n",
    "    plt.scatter(X[:,0], X[:,1], s=10, c=colors, cmap='gray_r', edgecolors='none')\n",
    "    plt.show()\n",
    "    \n",
    "plot_checkins(checkins)"
   ]
  },
  {
   "cell_type": "code",
   "execution_count": 11,
   "metadata": {
    "collapsed": true
   },
   "outputs": [],
   "source": [
    "#elliptical slice sampler (Murray, Adams, and MacKay JMLR 2010)\n",
    "# Inputs:\n",
    "# Y: observed data\n",
    "# Sig: covariance matrix of the prior\n",
    "# log_lik: the log likelihood function\n",
    "# N_mcmc: number of desired samples\n",
    "# burn_in: number of burn in iterations\n",
    "# N: dimensionality of the input, this should be M+1 because alpha is part of Sigma\n",
    "\n",
    "# returns an array of samples of size N_mcmc x N\n",
    "\n",
    "    \n",
    "def ess(Y, Sig,log_lik, N_mcmc, burn_in, N):\n",
    "    print 'running elliptical slice sampling...'\n",
    "    mcmc_samples = np.zeros((N_mcmc+burn_in, N))\n",
    "    norm_samples = np.random.multivariate_normal(np.zeros(N), Sig, N_mcmc+burn_in)\n",
    "    unif_samples = np.random.uniform(0,1,N_mcmc+burn_in)\n",
    "    theta = np.random.uniform(0,2*np.pi,N_mcmc+burn_in)\n",
    "    theta_min = theta-2*np.pi\n",
    "    theta_max = theta+2*np.pi\n",
    "    for i in range(1,N_mcmc+burn_in):\n",
    "        f = mcmc_samples[i-1,:]\n",
    "        llh_thresh = log_lik(f,Y) + np.log(unif_samples[i])\n",
    "        f_star = f*np.cos(theta[i])+norm_samples[i,:]*np.sin(theta[i])\n",
    "        while log_lik(f_star,Y) < llh_thresh:\n",
    "            if theta[i] < 0:\n",
    "                theta_min[i] = theta[i]\n",
    "            else:\n",
    "                theta_max[i] = theta[i]\n",
    "            theta[i] = np.random.uniform(theta_min[i],theta_max[i],1)  \n",
    "            f_star = f*np.cos(theta[i])+norm_samples[i,:]*np.sin(theta[i]) \t\t\n",
    "        mcmc_samples[i,:] = f_star\n",
    "    return mcmc_samples[(burn_in+1):(burn_in+N_mcmc),]"
   ]
  },
  {
   "cell_type": "markdown",
   "metadata": {},
   "source": [
    "# Problem 2: Point Matching\n",
    "\n",
    "In this problem you are given two point clouds `points1` and `points2`. Your task is to estimate an affine transformation which can map the points of `points1` onto the points of `points2`. Unfortunately you don't know which points from the two point sets correspond to each other.\n",
    "\n",
    "We are modeling the correspondences in a correspondence matrix $M$, which is of size $n_1 \\times n_2$ where $n_i$ is the number of points in point set $i$. $M_{ij}=1$ indicates that point $x_i$ from `points1` and $y_j$ from `points2` correspond to each other. Each point is only allowed to have one correspondence. So for all $i$ we have $\\sum_l^{n_2} M_{il} = 1$ \n",
    "\n",
    "The likelihood for this problem is:\n",
    "\n",
    "$$ \\prod_i^{n_1} \\prod_j^{n_2} \\varphi_{0,\\sigma}\\left(||Ax_i - y_j||\\right)^{M_{ij}} $$\n",
    "\n",
    "where $\\varphi_{0,\\sigma}$ is a normal distribution with mean 0 and variance $\\sigma^2$. We use $\\sigma^2 = 0.01$ as a default for this problem. \n",
    "\n",
    "Estimate the affine transform $A$ that matches the two point sets using expectation maximization and simulated annealing and compare the results. What are the strength of each algorithm? Which one would you prefer in which scenario?\n",
    "\n",
    "Here are some hints that should be useful:\n",
    "* The M-step of the problem will be a weighted least squares solution. \n",
    "* To use linear algebra to solve the M step it is useful to extend the point matrices to contain all possible pairwise correspondence pairs. \n",
    "* The weights for the weighted least squares should be updated in your E-step"
   ]
  },
  {
   "cell_type": "code",
   "execution_count": 4,
   "metadata": {
    "collapsed": false
   },
   "outputs": [
    {
     "data": {
      "image/png": "[encoded data removed]",
      "text/plain": [
       "<matplotlib.figure.Figure at 0x10395f1d0>"
      ]
     },
     "metadata": {},
     "output_type": "display_data"
    }
   ],
   "source": [
    "points1 = np.array([[-0.855,  0.905,  1.   ],[ 1.417, -1.999,  1.   ],[-0.896, -1.166,  1.   ],[-0.114, -0.604,  1.   ],\n",
    "                    [ 2.055,  0.131,  1.   ],[ 0.694,  0.056,  1.   ],[-1.318, -1.495,  1.   ],[ 0.479, -0.799,  1.   ],\n",
    "                    [-1.081,  0.91 ,  1.   ],[-0.273, -1.258,  1.   ],[ 1.733,  0.188,  1.   ],[ 0.65 ,  0.848,  1.   ],\n",
    "                    [-0.007,  0.507,  1.   ],[-0.262, -0.922,  1.   ],[-0.14 ,  1.078,  1.   ],[ 0.239,  1.246,  1.   ],\n",
    "                    [ 0.528,  0.036,  1.   ],[ 0.31 ,  0.025,  1.   ],[-2.734,  0.325,  1.   ],[ 1.014,  0.597,  1.   ],\n",
    "                    [-0.839, -0.137,  1.   ],[ 0.924,  0.012,  1.   ],[ 0.09 , -0.407,  1.   ],[ 0.433, -1.236,  1.   ],\n",
    "                    [ 1.345, -1.731,  1.   ],[-0.362,  0.012,  1.   ],[ 0.416,  1.279,  1.   ],[ 1.165,  0.185,  1.   ],\n",
    "                    [ 0.446, -0.088,  1.   ],[-1.006, -0.335,  1.   ],[ 0.072,  1.188,  1.   ],[ 0.25 ,  0.076,  1.   ],\n",
    "                    [ 1.525, -0.699,  1.   ],[ 0.574,  0.805,  1.   ],[-1.171, -0.655,  1.   ],[ 0.873, -0.067,  1.   ],\n",
    "                    [-0.306,  1.291,  1.   ],[-0.07 , -0.174,  1.   ],[-1.088,  1.27 ,  1.   ],[-0.864,  0.295,  1.   ],\n",
    "                    [-0.845,  0.914,  1.   ],[ 1.136, -1.001,  1.   ],[-0.55 ,  0.328,  1.   ],[-1.201,  0.621,  1.   ],\n",
    "                    [-0.617, -0.941,  1.   ],[ 0.438,  1.147,  1.   ],[ 0.252,  0.593,  1.   ],[ 3.42 , -0.792,  1.   ],\n",
    "                    [ 0.923,  0.096,  1.   ],[ 0.563, -0.235,  1.   ]])\n",
    "\n",
    "points2 = np.array([[-0.131, -0.134,  1.   ],[-2.402,  1.347,  1.   ],[ 0.137, -0.921,  1.   ],[ 0.581, -2.113,  1.   ],\n",
    "                    [ 0.283,  1.049,  1.   ],[-0.734, -1.058,  1.   ],[ 0.26 , -0.025,  1.   ],[ 0.296, -0.095,  1.   ],\n",
    "                    [ 0.211,  1.31 ,  1.   ],[ 0.874,  1.023,  1.   ],[-0.336, -0.515,  1.   ],[ 0.859, -0.343,  1.   ],\n",
    "                    [-0.073, -1.308,  1.   ],[-1.058,  0.075,  1.   ],[ 0.544, -2.389,  1.   ],[-0.827,  0.195,  1.   ],\n",
    "                    [ 0.666, -1.36 ,  1.   ],[ 0.698,  1.059,  1.   ],[-1.274, -0.734,  1.   ],[-0.52 ,  1.589,  1.   ],\n",
    "                    [ 1.141, -1.229,  1.   ],[ 0.89 , -0.265,  1.   ],[ 0.521,  1.07 ,  1.   ],[-0.651,  1.254,  1.   ],\n",
    "                    [-0.686,  0.603,  1.   ],[ 0.502, -0.169,  1.   ],[ 0.925,  0.535,  1.   ],[-0.93 , -0.634,  1.   ],\n",
    "                    [-0.33 ,  0.149,  1.   ],[-0.431,  1.168,  1.   ],[ 0.43 , -0.433,  1.   ],[ 1.949, -0.665,  1.   ],\n",
    "                    [-0.872,  1.033,  1.   ],[ 0.378, -0.252,  1.   ],[-1.79 , -0.877,  1.   ],[ 0.781, -0.396,  1.   ],\n",
    "                    [ 1.147, -0.275,  1.   ],[-0.073, -0.41 ,  1.   ],[ 1.673, -0.489,  1.   ],[-1.332, -0.157,  1.   ],\n",
    "                    [-0.444,  1.163,  1.   ],[ 0.459,  0.452,  1.   ],[ 0.843,  0.892,  1.   ],[ 0.662, -0.214,  1.   ],\n",
    "                    [ 0.838,  0.524,  1.   ],[ 0.188,  0.471,  1.   ],[ 1.166,  0.164,  1.   ],[-0.595, -0.751,  1.   ],\n",
    "                    [-0.382,  0.514,  1.   ],[ 2.857, -2.04 ,  1.   ]])\n",
    "\n",
    "plt.scatter(points1[:,0], points1[:,1], c='r', label='points1')\n",
    "plt.scatter(points2[:,0], points2[:,1], c='b', label='points2')\n",
    "plt.legend()\n",
    "plt.show()"
   ]
  },
  {
   "cell_type": "markdown",
   "metadata": {},
   "source": [
    "## EM Algorithm"
   ]
  },
  {
   "cell_type": "code",
   "execution_count": 79,
   "metadata": {
    "collapsed": true
   },
   "outputs": [],
   "source": [
    "def em_single(A, X_e, Y_e, sigma=0.1):\n",
    "    \"\"\"\n",
    "    Performs a single EM step\n",
    "    Arguments\n",
    "    ---------\n",
    "    A :  affine transform matrix A 3*3\n",
    "    X_e: ni^2*3 matrix, extension matrix of X\n",
    "    Y_e: nj^2*3 matrix, extension matrix of Y\n",
    "    \n",
    "    Returns\n",
    "    --------\n",
    "    A_h: affine transform matrix A 3*3\n",
    "    \"\"\"\n",
    "    \n",
    "    # E step\n",
    "    trans_X = np.dot(X_e, A)\n",
    "    ni2 = len(X_e)\n",
    "    nj2 = len(Y_e)\n",
    "    n = np.sqrt(ni2)\n",
    "    diff = trans_X - Y_e\n",
    "    likelihood = np.ones(ni2)\n",
    "    for i, d in enumerate(diff):\n",
    "        distance = np.linalg.norm(d, ord=2)\n",
    "        likelihood[i] = scipy.stats.norm(0, sigma).pdf(distance)\n",
    "\n",
    "    # normalize likelihood\n",
    "    sums = np.repeat(np.sum(likelihood.reshape(n,n),axis = 1),n)\n",
    "    W = np.diag(likelihood/sums) # Weight matrix\n",
    "\n",
    "    # M step\n",
    "    # A_h = (X′WX)^(−1)X′WY\n",
    "    A_h = np.dot(np.linalg.inv(np.dot(np.dot(np.transpose(X_e),W),X_e)),\n",
    "                 np.dot(np.dot(np.transpose(X_e),W),Y_e))\n",
    "    return A_h, W"
   ]
  },
  {
   "cell_type": "code",
   "execution_count": 80,
   "metadata": {
    "collapsed": true
   },
   "outputs": [],
   "source": [
    "# function to transform x into extension x [X1,X1,....X2,X2,....Xn,Xn,....]\n",
    "def Xextension(X):\n",
    "    n = len(X)\n",
    "    cdim = X.shape[1]\n",
    "    X_e = np.zeros((n**2, cdim))\n",
    "    for i in range(n):\n",
    "        for j in range(n):\n",
    "            X_e[i*n+j,:] = X[i,:]\n",
    "    return X_e"
   ]
  },
  {
   "cell_type": "code",
   "execution_count": 81,
   "metadata": {
    "collapsed": true
   },
   "outputs": [],
   "source": [
    "# function to transform Y into extension Y [Y1, Y2,...Yn, Y1,Y2,...,Yn,....]\n",
    "def Yextension(Y):\n",
    "    n = len(Y)\n",
    "    cdim = Y.shape[1]\n",
    "    Y_e = np.zeros((n**2, cdim))\n",
    "    for i in range(n):\n",
    "        for j in range(n):\n",
    "            Y_e[i*n+j,:] = Y[j,:]\n",
    "    return Y_e"
   ]
  },
  {
   "cell_type": "code",
   "execution_count": 82,
   "metadata": {
    "collapsed": false
   },
   "outputs": [],
   "source": [
    "# Now a procedure to run the algorithm with two convergence criteria: a maximum of 10000 iterations\n",
    "# or a tolerance of 1E-6:\n",
    "\n",
    "def em(points1, points2, A, tol=1e-10, iterations=300):\n",
    "    iteration = 0\n",
    "    X_e = Xextension(points1)\n",
    "    Y_e = Yextension(points2)\n",
    "    trace = [A]\n",
    "    while iteration<iterations:\n",
    "        A_h, W = em_single(A, X_e, Y_e)\n",
    "        # Check convergence\n",
    "        converged = np.all(np.abs((A_h - A) < tol))\n",
    "        if converged:\n",
    "            break\n",
    "        else:\n",
    "            A = A_h\n",
    "            trace.append(A)\n",
    "            iteration+=1\n",
    "            \n",
    "    return A, trace, W, iteration"
   ]
  },
  {
   "cell_type": "code",
   "execution_count": 83,
   "metadata": {
    "collapsed": true
   },
   "outputs": [],
   "source": [
    "# initialize A\n",
    "A = np.identity(3)"
   ]
  },
  {
   "cell_type": "code",
   "execution_count": 84,
   "metadata": {
    "collapsed": false
   },
   "outputs": [
    {
     "name": "stderr",
     "output_type": "stream",
     "text": [
      "/Users/xchang/anaconda/lib/python2.7/site-packages/ipykernel/__main__.py:27: DeprecationWarning: using a non-integer number instead of an integer will result in an error in the future\n"
     ]
    }
   ],
   "source": [
    "A, trace, W, iteration = em(points1, points2, A)"
   ]
  },
  {
   "cell_type": "code",
   "execution_count": 85,
   "metadata": {
    "collapsed": false
   },
   "outputs": [
    {
     "name": "stdout",
     "output_type": "stream",
     "text": [
      "EM A estimate:\n",
      "[[  9.22708264e-01  -3.82285353e-01   0.00000000e+00]\n",
      " [  3.82508395e-01   9.22794236e-01   6.93889390e-18]\n",
      " [  5.54468755e-04  -4.43284771e-05   1.00000000e+00]]\n"
     ]
    }
   ],
   "source": [
    "print 'EM A estimate:'\n",
    "print A"
   ]
  },
  {
   "cell_type": "code",
   "execution_count": 86,
   "metadata": {
    "collapsed": false
   },
   "outputs": [
    {
     "data": {
      "text/plain": [
       "<matplotlib.text.Text at 0x1212627d0>"
      ]
     },
     "execution_count": 86,
     "metadata": {},
     "output_type": "execute_result"
    },
    {
     "data": {
      "image/png": "[encoded data removed]",
      "text/plain": [
       "<matplotlib.figure.Figure at 0x120536990>"
      ]
     },
     "metadata": {},
     "output_type": "display_data"
    }
   ],
   "source": [
    "# parameter trace\n",
    "for i in range(A.shape[0]):\n",
    "    for j in range(A.shape[1]):\n",
    "        para = []\n",
    "        for k in range(len(trace)):\n",
    "            para.append(trace[k][i,j])\n",
    "        plt.plot(para)\n",
    "        plt.legend()\n",
    "plt.xlabel('iteration')\n",
    "plt.ylabel('Parameter value')\n",
    "plt.title('Parameter Trace')"
   ]
  },
  {
   "cell_type": "markdown",
   "metadata": {},
   "source": [
    "From the trace plot above, we could see that all the elements in A get converged."
   ]
  },
  {
   "cell_type": "code",
   "execution_count": 109,
   "metadata": {
    "collapsed": false
   },
   "outputs": [
    {
     "name": "stdout",
     "output_type": "stream",
     "text": [
      "EM M: [[ 0.  0.  0. ...,  0.  0.  0.]\n",
      " [ 0.  0.  0. ...,  0.  0.  0.]\n",
      " [ 0.  0.  0. ...,  0.  0.  0.]\n",
      " ..., \n",
      " [ 0.  0.  0. ...,  0.  0.  1.]\n",
      " [ 0.  0.  0. ...,  0.  0.  0.]\n",
      " [ 0.  0.  0. ...,  0.  0.  0.]]\n"
     ]
    }
   ],
   "source": [
    "n = len(points1)\n",
    "W_diag = np.diagonal(W)\n",
    "G = W_diag.reshape(n,n)\n",
    "\n",
    "M = np.zeros((n,n))\n",
    "for i in range(n):\n",
    "    M[i,:] = (G[i,:]==np.max(G[i,:]))\n",
    "\n",
    "print 'EM M:', M"
   ]
  },
  {
   "cell_type": "code",
   "execution_count": 111,
   "metadata": {
    "collapsed": true
   },
   "outputs": [],
   "source": [
    "def RMSE(A, X, Y, sigma=0.1):\n",
    "    \n",
    "    AX = np.dot(X, A)\n",
    "    diff = AX - Y\n",
    "    RMSE = np.sum([np.linalg.norm(d, ord=2)**2 for d in diff])\n",
    "    \n",
    "    return RMSE"
   ]
  },
  {
   "cell_type": "code",
   "execution_count": 113,
   "metadata": {
    "collapsed": false
   },
   "outputs": [
    {
     "name": "stdout",
     "output_type": "stream",
     "text": [
      "EM RMSE: 0.000158581927594\n"
     ]
    }
   ],
   "source": [
    "points1_trans = np.dot(M.T, points1)\n",
    "RMSE_em = RMSE(A, points1_trans, points2)\n",
    "print 'EM RMSE:', RMSE_em"
   ]
  },
  {
   "cell_type": "markdown",
   "metadata": {},
   "source": [
    "## Simulated Annealing"
   ]
  },
  {
   "cell_type": "code",
   "execution_count": 19,
   "metadata": {
    "collapsed": true
   },
   "outputs": [],
   "source": [
    "import copy\n",
    "# create a new M by swapping different rows\n",
    "# n_swaps rows randomly\n",
    "def changeM(M, n_swaps):\n",
    "    rows = M.copy()\n",
    "    for i in range(n_swaps):\n",
    "        swappedrows = swaprows(rows)\n",
    "        rows=swappedrows.copy()\n",
    "    return rows\n",
    "\n",
    "def swaprows(rows):\n",
    "    indices = range(rows.shape[0])\n",
    "    # take two random indices to swap\n",
    "    c1 = np.random.choice(indices)\n",
    "    c2 = np.random.choice(indices)\n",
    "    \n",
    "    while c2 == c1:\n",
    "        c2 = np.random.choice(indices) \n",
    "    \n",
    "    # remember the cities to swap\n",
    "    tmp1 = rows[c1,:]\n",
    "    tmp2 = rows[c2,:]\n",
    "    \n",
    "    # do the actual swapping\n",
    "    changedrows = rows.copy()\n",
    "    changedrows[c1,:] = tmp2\n",
    "    changedrows[c2,:] = tmp1\n",
    "    \n",
    "    return changedrows\n"
   ]
  },
  {
   "cell_type": "code",
   "execution_count": 20,
   "metadata": {
    "collapsed": true
   },
   "outputs": [],
   "source": [
    "def estimate_A(X, Y):\n",
    "    # A_h = (XTX)−1XTY)\n",
    "    estimate = np.dot(np.linalg.inv(np.dot(np.transpose(X), X)),np.dot(np.transpose(X),Y))\n",
    "    return estimate"
   ]
  },
  {
   "cell_type": "markdown",
   "metadata": {},
   "source": [
    "Likelihood: $$ \\prod_i^{n_1} \\prod_j^{n_2} \\varphi_{0,\\sigma}\\left(||Ax_i - y_j||\\right)^{M_{ij}} $$\n",
    "RMSE: $$ \\sum_i^{n_1} \\sum_j^{n_2} \\left(||Ax_i - y_j||^2\\right)^{M_{ij}} $$"
   ]
  },
  {
   "cell_type": "code",
   "execution_count": 21,
   "metadata": {
    "collapsed": false
   },
   "outputs": [],
   "source": [
    "def RMSE(A, X, Y, sigma=0.1):\n",
    "    \n",
    "    AX = np.dot(X, A)\n",
    "    diff = AX - Y\n",
    "    RMSE = np.sum([np.linalg.norm(d, ord=2)**2 for d in diff])\n",
    "    \n",
    "    return RMSE"
   ]
  },
  {
   "cell_type": "markdown",
   "metadata": {},
   "source": [
    "### Reference: Lecture 12"
   ]
  },
  {
   "cell_type": "code",
   "execution_count": 115,
   "metadata": {
    "collapsed": true
   },
   "outputs": [],
   "source": [
    "# function for simulated annealing\n",
    "# item_ind: index vector that i th entry indicates whether we bring the ith item\n",
    "# init_temp: initial temperature \n",
    "# thermostat: linear factor to decrease the temperature \n",
    "# ftol, itol: tolerance values for stopping \n",
    "# ftol: Not changing much anymore\n",
    "# itol: maximum number of iterations\n",
    "# reannealing: schedule for reheating\n",
    "\n",
    "def simulated_annealing(points1, points2, M, init_temp, thermostat, ftol, itol, otol, reannealing):\n",
    "\n",
    "    m=10000     \n",
    "    val=[]\n",
    "    temperature = init_temp   \n",
    "\n",
    "\n",
    "    N = len(M)\n",
    "    \n",
    "    # number of accepted steps\n",
    "    it = 0                    \n",
    "\n",
    "    # Value HERE IS OUR ENERGY \n",
    "    points1_trans = np.dot(M.T, points1) # reorder points1 to map to points2\n",
    "    A = estimate_A(points1_trans, points2)\n",
    "    prev_E = RMSE(A, points1_trans, points2)\n",
    "    \n",
    "    # number of iterations\n",
    "    atp=0\n",
    "    \n",
    "    didPlot = False\n",
    "    \n",
    "    while it >=0:\n",
    "        # adaptive step size \n",
    "        L = np.max((np.floor(np.sqrt(temperature)).astype(int),1))\n",
    "#         print \"L\", L\n",
    "        #L = 2\n",
    "        propose_M = changeM(M, L)\n",
    "        propose_X = np.dot(propose_M.T, points1)\n",
    "        propose_A = estimate_A(propose_X, points2)\n",
    "        \n",
    "        new_E = RMSE(propose_A, propose_X, points2)\n",
    "        deltaE  =  new_E -prev_E \n",
    "\n",
    "        if new_E < prev_E:\n",
    "            M  = propose_M\n",
    "            A = propose_A\n",
    "            #val[it] =new_E\n",
    "            val.append(new_E)\n",
    "            prev_E = new_E  \n",
    "            it = it+1\n",
    "            didPlot = False\n",
    "\n",
    "        elif np.random.rand() < np.exp(-deltaE/temperature):\n",
    "            M  = propose_M\n",
    "            A = propose_A\n",
    "            #val[it] =new_E\n",
    "            val.append(new_E)\n",
    "            prev_E = new_E  \n",
    "            it = it+1\n",
    "            didPlot = False\n",
    "            \n",
    "        atp =atp +1;  # NUMBER OF ITERATIONS\n",
    "        \n",
    "        # check if it is time to cool down\n",
    "        if it % reannealing == 0:\n",
    "            temperature = thermostat * temperature;\n",
    "            #temperature =  temperature/log(it);\n",
    "            compl_temp=0;\n",
    "            \n",
    "            #if we get too cold, reheat\n",
    "            if temperature < 0.01:\n",
    "                temperature = 1\n",
    "        \n",
    "        if False: #some optional plotting\n",
    "            if (it % 100 == 0) and not didPlot:       \n",
    "                display.clear_output()\n",
    "                plt.plot( val, '-r')\n",
    "                display.display(plt.gcf())\n",
    "                print len(val)\n",
    "                print raw_input('Iteration: ' + np.str(atp))\n",
    "                plt.close()\n",
    "                didPlot = True\n",
    "    \n",
    "        if len(val)>m and np.std(val[-m:])/np.mean(val[-m:]) < ftol:\n",
    "            print 'Not changing much anymore'\n",
    "            break\n",
    "        if atp >itol:\n",
    "            print 'maximum number of iterations'\n",
    "            break\n",
    "            \n",
    "        if len(val)> 0 and val[-1] == otol:\n",
    "            print 'RMSE hits 0'\n",
    "            break\n",
    "\n",
    "    \n",
    "    return M, A, val"
   ]
  },
  {
   "cell_type": "code",
   "execution_count": 120,
   "metadata": {
    "collapsed": false
   },
   "outputs": [
    {
     "name": "stdout",
     "output_type": "stream",
     "text": [
      "maximum number of iterations\n"
     ]
    }
   ],
   "source": [
    "M_i = np.identity(50)\n",
    "M_s, A_s, value = simulated_annealing(points1, points2, M_i, 10., 0.9, 0.01, 200000, 0., 200)"
   ]
  },
  {
   "cell_type": "code",
   "execution_count": 121,
   "metadata": {
    "collapsed": false
   },
   "outputs": [
    {
     "data": {
      "text/plain": [
       "[<matplotlib.lines.Line2D at 0x121fc5810>]"
      ]
     },
     "execution_count": 121,
     "metadata": {},
     "output_type": "execute_result"
    },
    {
     "data": {
      "image/png": "[encoded data removed]",
      "text/plain": [
       "<matplotlib.figure.Figure at 0x121c635d0>"
      ]
     },
     "metadata": {},
     "output_type": "display_data"
    }
   ],
   "source": [
    "plt.plot(value)"
   ]
  },
  {
   "cell_type": "code",
   "execution_count": 127,
   "metadata": {
    "collapsed": false
   },
   "outputs": [
    {
     "name": "stdout",
     "output_type": "stream",
     "text": [
      "SA #accepted value: 12578\n",
      "SA A:\n",
      "[[  9.23702289e-01  -3.82796723e-01   0.00000000e+00]\n",
      " [  3.82033338e-01   9.23312591e-01   0.00000000e+00]\n",
      " [ -5.21586159e-06   2.79830701e-05   1.00000000e+00]]\n",
      "SA RMSE: 0.0588329968542\n",
      "SA M:\n",
      "[[ 0.  0.  0. ...,  0.  0.  0.]\n",
      " [ 0.  0.  0. ...,  0.  0.  0.]\n",
      " [ 0.  0.  0. ...,  0.  0.  0.]\n",
      " ..., \n",
      " [ 0.  0.  0. ...,  0.  0.  1.]\n",
      " [ 0.  0.  0. ...,  0.  0.  0.]\n",
      " [ 0.  0.  0. ...,  0.  0.  0.]]\n"
     ]
    }
   ],
   "source": [
    "print 'SA #accepted value:', len(value)\n",
    "print 'SA A:\\n', A_s\n",
    "print 'SA RMSE:', value[-1]\n",
    "print 'SA M:\\n', M_s"
   ]
  },
  {
   "cell_type": "code",
   "execution_count": 129,
   "metadata": {
    "collapsed": false
   },
   "outputs": [
    {
     "data": {
      "text/plain": [
       "0.058832996854166549"
      ]
     },
     "execution_count": 129,
     "metadata": {},
     "output_type": "execute_result"
    }
   ],
   "source": [
    "points1_trans = np.dot(M_s.T, points1)\n",
    "RMSE(A_s, points1_trans, points2)"
   ]
  },
  {
   "cell_type": "markdown",
   "metadata": {},
   "source": [
    "# Problem 3 Time Series\n",
    "\n",
    "Below you find 200 data points from a time series. Your task is to model this data using a simple autoregressive model:\n",
    "\n",
    "$$\n",
    "X_t=\\alpha X_{t-1}+r_t\n",
    "$$\n",
    "where $r_t$ is normally distributed: $r_t \\sim\\mathcal{N}(0,\\sigma^2)$\n",
    "\n",
    "Here are your tasks:\n",
    "* Implement a maximum likelihood estimation(MLE) method to estimate $\\alpha$\n",
    "* Use any MCMC algorithm of your choice to infere $\\sigma^2$ and $\\alpha$\n",
    "* Forecast 3 time points ahead and provide posteriors for these three points"
   ]
  },
  {
   "cell_type": "code",
   "execution_count": 28,
   "metadata": {
    "collapsed": false
   },
   "outputs": [],
   "source": [
    "# Here is the data\n",
    "y=np.array([0.00000000e+00,  -2.41884381e-01,  -2.19815584e-01, -5.92654275e-03,   3.89498469e-02,  -7.06374756e-01,\n",
    "         6.09244734e-02,  -1.36663360e+00,  -1.63887006e+00, -1.31721354e+00,  -1.52424274e+00,  -1.23902096e+00,\n",
    "        -6.63029664e-01,  -5.97693396e-01,   1.26359198e-01, 6.55116724e-01,   2.98253859e-01,   7.19461104e-03,\n",
    "         4.04113046e-01,   7.29893878e-01,  -1.96731327e-03, 4.64230686e-01,  -6.79727540e-02,  -4.19137503e-01,\n",
    "        -4.03256074e-01,  -8.70131096e-01,  -8.25921060e-01, 4.69417714e-01,  -1.00177377e-01,   6.34076840e-02,\n",
    "        -1.05978178e-01,  -1.48916430e-01,  -5.43573786e-02, 4.61970441e-01,   8.18280558e-01,   2.87185308e-01,\n",
    "         1.26715777e+00,   6.41828280e-01,   8.77364512e-01, 3.67214345e-01,   6.26413729e-01,   2.87102039e-02,\n",
    "         4.28449069e-01,   7.31450267e-01,   6.19131504e-01, 6.33373751e-01,   3.17572088e-01,   3.51692600e-01,\n",
    "        -2.48995087e-02,  -2.53030153e-01,  -2.15503832e-01,-6.20238803e-01,  -5.28176551e-01,  -5.99112522e-01,\n",
    "         3.32834574e-01,   4.01426008e-01,  -6.37956657e-01,-4.52884655e-01,  -1.16203988e+00,  -8.82257305e-01,\n",
    "        -6.19309194e-01,  -4.78009274e-01,  -2.32960888e-01, 3.80860392e-01,  -5.52337194e-01,   6.43589528e-01,\n",
    "        -1.71939822e-01,  -2.22714248e-02,   1.69698173e-01, 2.26875861e-01,   6.27784254e-02,   9.59070565e-01,\n",
    "        -2.00412521e-01,   1.62853318e-02,  -1.64492388e-02,-5.92514844e-01,  -1.43386816e-01,  -9.50829381e-01,\n",
    "        -1.07109089e+00,  -5.47941202e-01,  -6.80501959e-01,-1.22073393e+00,  -5.09858830e-01,  -1.24176275e+00,\n",
    "        -6.30383282e-01,  -8.67182207e-01,  -9.67761290e-01,-1.79674059e-01,   6.09919157e-01,   9.95635469e-02,\n",
    "         2.28199545e-01,   4.21792446e-01,   1.69467875e-01,-2.59645693e-01,  -4.93207819e-01,  -5.01539736e-01,\n",
    "        -6.05873935e-01,  -6.11037064e-01,   1.01647103e-01,-1.44991643e-01,  -4.33238432e-02,  -6.41062073e-02,\n",
    "        -2.85514261e-01,  -3.95586179e-01,  -3.57194799e-01,-2.20170569e-01,  -3.39918202e-01,   1.70035788e-01,\n",
    "         7.41558107e-01,   8.33120964e-01,   3.73995334e-01, 4.83141624e-01,  -1.28861162e-01,  -4.22192149e-01,\n",
    "         5.78378631e-01,   1.43550174e-01,  -1.31226657e-01,-5.30885377e-01,  -8.76270272e-01,  -4.34154230e-01,\n",
    "        -5.02379201e-01,  -5.14585915e-01,  -4.64397849e-01, 1.65475660e-01,   1.07774616e-01,  -9.65587168e-01,\n",
    "        -8.60566293e-01,  -2.36405434e-01,  -4.12606502e-01,-5.58566210e-01,   1.20028400e+00,   9.96896069e-01,\n",
    "         4.41653164e-01,   1.59249052e-01,  -1.74168536e-01, 5.63049814e-01,   7.39366310e-01,   6.05361272e-01,\n",
    "         2.79509214e-01,  -6.26883609e-01,  -4.44982987e-01,-8.69359696e-01,  -9.27422224e-01,  -6.98179880e-01,\n",
    "        -1.35445853e+00,  -1.12329955e+00,  -4.94572306e-01,-3.40507834e-01,  -8.37907253e-01,  -9.97003760e-01,\n",
    "        -7.69088724e-01,  -4.77378429e-01,   4.52315984e-02, 8.76114754e-02,  -9.24336169e-02,   4.42178858e-01,\n",
    "         6.32190755e-01,   8.18383124e-01,   2.95975304e-01,-2.38797237e-02,   1.16395924e-01,   5.62311884e-02,\n",
    "        -3.15966789e-01,  -3.16808474e-01,  -1.16651970e+00,-1.01729199e+00,  -7.75285712e-01,  -4.17618624e-01,\n",
    "        -7.65156825e-01,  -5.10469718e-01,  -3.25334859e-01, 1.06358791e-01,   4.03467712e-01,   5.62837155e-01,\n",
    "         5.87793605e-01,   4.38191557e-01,  -4.17879322e-01,-3.19715350e-01,   3.41624528e-01,   4.93054502e-01,\n",
    "         3.69746949e-01,   9.62398763e-02,  -2.81485049e-01,-3.37776564e-01,  -1.30858217e-03,   9.83538405e-01,\n",
    "         6.94986165e-01,   2.41137851e-01,   2.79478944e-01, 5.13500357e-01,   4.17786188e-01,   7.46707509e-01,\n",
    "         1.25038407e+00,   8.17699739e-01,   8.78811468e-02,-1.20413802e-01,  -1.83227208e-01,   8.06195706e-02,\n",
    "         4.16043086e-01,   6.45585187e-02])\n"
   ]
  },
  {
   "cell_type": "markdown",
   "metadata": {},
   "source": [
    "# Extra Problem 4: Final Project Proposal \n",
    "\n",
    "Think about your final project proposal. Your final project is your chance to show off what you learned in AM207! You have seen a lot of different models and examples in lecture and in the homework assignments. In your final project you are free to apply all the techniques you learned to an area of your choice. Be careful not to choose data that you still need to label yourself or that will take you ages to clean. The main focus should be on finding a good model and comparing different techniques for sampling, optimization, etc. \n",
    "\n",
    "Please note that there will be a google spreadsheet where you can submit your final project proposal abstract. No need to write it into this notebook. \n",
    "\n",
    "The abstract should be short, but contain a short description of your final project idea, which methods you are planning on using, and where your data will come from. "
   ]
  },
  {
   "cell_type": "code",
   "execution_count": null,
   "metadata": {
    "collapsed": true
   },
   "outputs": [],
   "source": []
  }
 ],
 "metadata": {
  "kernelspec": {
   "display_name": "Python 2",
   "language": "python",
   "name": "python2"
  },
  "language_info": {
   "codemirror_mode": {
    "name": "ipython",
    "version": 2
   },
   "file_extension": ".py",
   "mimetype": "text/x-python",
   "name": "python",
   "nbconvert_exporter": "python",
   "pygments_lexer": "ipython2",
   "version": "2.7.11"
  }
 },
 "nbformat": 4,
 "nbformat_minor": 0
}
